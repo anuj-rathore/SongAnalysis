{
 "cells": [
  {
   "cell_type": "code",
   "execution_count": 2,
   "metadata": {},
   "outputs": [],
   "source": [
    "import bs4\n",
    "import urllib\n",
    "import collections\n",
    "import sys"
   ]
  },
  {
   "cell_type": "code",
   "execution_count": 3,
   "metadata": {},
   "outputs": [],
   "source": [
    "base_url = \"http://smriti.com\"\n",
    "static_index = base_url + \"/hindi-songs/static-indexes/\"\n",
    "year_url = base_url + \"/hindi-songs/year-\""
   ]
  },
  {
   "cell_type": "code",
   "execution_count": 4,
   "metadata": {},
   "outputs": [],
   "source": [
    "class Song(object):\n",
    "    def __init__(self, name, url):\n",
    "        self.url = base_url + url\n",
    "        self.name = name\n",
    "        self.meta_data = {}\n",
    "        self.read_song()\n",
    "        \n",
    "    def read_song(self):\n",
    "        html = urllib.urlopen(self.url)\n",
    "        dom = bs4.BeautifulSoup(html, 'lxml')\n",
    "        \n",
    "        pstats = dom.find_all(\"ul\", {\"class\": \"pstats\"})[0]\n",
    "        for li in pstats.find_all(\"li\"):\n",
    "            data = \"\" if len(li.contents) < 3 else li.contents[2].contents[0]\n",
    "            self.meta_data[li.contents[0].contents[0]] = data\n",
    "        \n",
    "        songbody = dom.find_all(\"div\", {\"class\": \"songbody\"})[0]\n",
    "        self.lyrics = songbody.getText()"
   ]
  },
  {
   "cell_type": "code",
   "execution_count": null,
   "metadata": {},
   "outputs": [
    {
     "name": "stdout",
     "output_type": "stream",
     "text": [
      "1974"
     ]
    }
   ],
   "source": [
    "song_dict = collections.defaultdict(list)\n",
    "\n",
    "for year in range(1971, 2000):\n",
    "    sys.stdout.write('\\r{}'.format(year))\n",
    "    sys.stdout.flush()\n",
    "    \n",
    "    html = urllib.urlopen(year_url + str(year))\n",
    "    dom = bs4.BeautifulSoup(html, 'lxml')\n",
    "    songs = dom.find_all(\"div\", {\"class\" : \"onesong\"})\n",
    "    for song in songs:\n",
    "        try:\n",
    "            s = Song(song.contents[0], song.contents[1]['href'])\n",
    "            song_dict[year].append(s)\n",
    "        except:\n",
    "            print song.content[0]"
   ]
  },
  {
   "cell_type": "code",
   "execution_count": 1,
   "metadata": {},
   "outputs": [],
   "source": [
    "import cPickle as pickle\n",
    "import sys\n",
    "sys.setrecursionlimit(3000)\n",
    "#pickle.dump(song_dict, open('songs/smriti.p', 'wb+'))\n",
    "for year in song_dict.keys():\n",
    "    pickle.dump(song_dict[year], open('smriti_songs/{}.p'.format(year), 'wb+'))"
   ]
  },
  {
   "cell_type": "code",
   "execution_count": null,
   "metadata": {},
   "outputs": [],
   "source": []
  }
 ],
 "metadata": {
  "kernelspec": {
   "display_name": "Python 2",
   "language": "python",
   "name": "python2"
  },
  "language_info": {
   "codemirror_mode": {
    "name": "ipython",
    "version": 2
   },
   "file_extension": ".py",
   "mimetype": "text/x-python",
   "name": "python",
   "nbconvert_exporter": "python",
   "pygments_lexer": "ipython2",
   "version": "2.7.12"
  }
 },
 "nbformat": 4,
 "nbformat_minor": 2
}
