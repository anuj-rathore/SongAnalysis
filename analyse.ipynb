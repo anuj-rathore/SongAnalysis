{
 "cells": [
  {
   "cell_type": "code",
   "execution_count": 1,
   "metadata": {},
   "outputs": [],
   "source": [
    "import cPickle as pickle\n",
    "from download_songs import BinacaYear, Song\n",
    "import glob\n",
    "import collections\n",
    "import matplotlib\n",
    "import matplotlib.pyplot as plt\n",
    "import numpy as np\n",
    "from nltk.tokenize import word_tokenize"
   ]
  },
  {
   "cell_type": "code",
   "execution_count": 2,
   "metadata": {},
   "outputs": [],
   "source": [
    "def analyse(by):\n",
    "    word_list = collections.defaultdict(float)\n",
    "    \n",
    "    for song in by.songs:\n",
    "        tokens = word_tokenize(song.lyrics)\n",
    "        for word in tokens:\n",
    "            word_list[word] += 1\n",
    "    \n",
    "    total_words = sum(word_list.values())\n",
    "    word_list = {k: v/total_words for k, v in word_list.iteritems()}\n",
    "    return word_list\n"
   ]
  },
  {
   "cell_type": "code",
   "execution_count": 12,
   "metadata": {},
   "outputs": [],
   "source": [
    "binaca_year = {}\n",
    "for i in glob.glob(\"./songs/*.p\"):\n",
    "    binaca_year[int(i[-6:-2])] = pickle.load(open(i, \"rb\"))\n"
   ]
  },
  {
   "cell_type": "code",
   "execution_count": null,
   "metadata": {},
   "outputs": [],
   "source": []
  },
  {
   "cell_type": "code",
   "execution_count": 16,
   "metadata": {},
   "outputs": [],
   "source": [
    "binaca_dict = {}\n",
    "for year in binaca_year.keys():\n",
    "    binaca_dict[year] = analyse(binaca_year[year])\n"
   ]
  },
  {
   "cell_type": "code",
   "execution_count": 21,
   "metadata": {},
   "outputs": [],
   "source": [
    "vocab = set()\n",
    "for keys in binaca_dict.values():\n",
    "    for i in keys.keys():\n",
    "        vocab.add(i)\n",
    "vocab = list(vocab)"
   ]
  },
  {
   "cell_type": "code",
   "execution_count": 23,
   "metadata": {},
   "outputs": [
    {
     "data": {
      "text/plain": [
       "12433"
      ]
     },
     "execution_count": 23,
     "metadata": {},
     "output_type": "execute_result"
    }
   ],
   "source": [
    "len(vocab)"
   ]
  },
  {
   "cell_type": "code",
   "execution_count": 24,
   "metadata": {},
   "outputs": [],
   "source": [
    "def combine_dict(year_range):\n",
    "    d = collections.defaultdict(float)\n",
    "    for year in year_range:\n",
    "        for k, v in binaca_dict[year].iteritems():\n",
    "            d[k] += v\n",
    "    return d\n",
    "\n",
    "def get_top_n_words(n, year_range):\n",
    "    d = combine_dict(year_range)\n",
    "    m = [[v, k] for k, v in d.iteritems()]\n",
    "    m.sort(reverse=True)\n",
    "    return set(map(lambda i: i[1], m[n]))"
   ]
  },
  {
   "cell_type": "code",
   "execution_count": 26,
   "metadata": {},
   "outputs": [
    {
     "data": {
      "image/png": "[encoded data removed]",
      "text/plain": [
       "<matplotlib.figure.Figure at 0x7fbebd6029d0>"
      ]
     },
     "metadata": {},
     "output_type": "display_data"
    }
   ],
   "source": [
    "d = binaca_dict[1954]\n",
    "m = [(v, k) for k, v in d.iteritems()]\n",
    "m.sort(reverse=True)\n",
    "x = range(len(m))\n",
    "plt.bar(x, map(lambda i: i[0], m), 1/1.5, color=\"Red\")\n",
    "plt.xticks(x, map(lambda i: i[1], m))\n",
    "plt.show()"
   ]
  },
  {
   "cell_type": "code",
   "execution_count": null,
   "metadata": {},
   "outputs": [],
   "source": []
  },
  {
   "cell_type": "code",
   "execution_count": 8,
   "metadata": {},
   "outputs": [
    {
     "name": "stdout",
     "output_type": "stream",
     "text": [
      "bhee , mila , maine , jara , koyi , leke , jaago , aaye , bat , magar , sang , chaand , bahar , ban , gagan , haay , diya , naam , allah , nain , are , najar , sun , ichak , kyaa , phul , ruk , kee , kaun , bol , haa , chand , rang , diye , zindagi , bhayo , toh , tumhe , kahe , mora , more , manzil , yaha , yahi , chup , gayo , ram , haye , kyo , hamara , karu , sab , is , in , kuch , hame , sar , khabar , hindustani , jaha , barse , kah , jiya , kiya , jaise , bade , sa , tha ,\n",
      "---------------------------------------------------------------------------------\n",
      "raja , mehbuba , chori , hath , mile , ga , nahin , jay , hay , jaa , jayenge , kisi , maar , mujhko , apne , du , bas , jaana , sanam , milan , ru , aate , jaate , bole , dekha , jate , jata , jaan , chor , bhai , bhar , dono , prem , tujhe , kahi , jana , chaahiye , jhum , piya , gori , he , apna , ma , aao , aai , aap , kahaan , zara , badal , chale , raha , rahe , aha , karo , saath , mil , hoo , shaadi , nam , jivan , mat , kal , kaise , aisa , aise , bina , thi , raat ,\n"
     ]
    }
   ],
   "source": [
    "#see how words changed over time\n",
    "\n",
    "s_v = slice(100, 200)\n",
    "seta = get_top_n_words(s_v, range(1955, 1965))\n",
    "setb = get_top_n_words(s_v, range(1973, 1983))\n",
    "\n",
    "for i in seta:\n",
    "    if i not in setb:\n",
    "        print i, ',',\n",
    "print\n",
    "print '-' * 81\n",
    "\n",
    "for i in setb:\n",
    "    if i not in seta:\n",
    "        print i, ',',\n",
    "print"
   ]
  },
  {
   "cell_type": "code",
   "execution_count": 49,
   "metadata": {},
   "outputs": [
    {
     "name": "stdout",
     "output_type": "stream",
     "text": [
      "dil 0.0947869734443\n",
      "pyar 0.0560004905994\n",
      "pyaar 0.0257708943956\n",
      "prem 0.00380169757074\n",
      "premi 0.000660178158065\n",
      "love 0.00239748887422\n",
      "pal 0.00541753883732\n",
      "aankhein 0.0\n",
      "zindagi 0.00893450136488\n",
      "jindagi 0.00397904580032\n",
      "khuda 0.00314859585769\n",
      "allah 0.00165616271691\n",
      "ankhein 0.0\n",
      "muhabbat 0.00387457827143\n",
      "mohabbat 0.0189850623375\n",
      "ishq 0.00217712725276\n",
      "isk 0.000136798905609\n",
      "jaan 0.0104670401606\n",
      "jism 0.000272929210627\n",
      "tadap 0.00123557687795\n",
      "jaanam 0.0\n",
      "dushman 0.00245702221736\n",
      "dost 0.00136190077381\n",
      "kamar 0.00119838221226\n",
      "dewaana 0.0\n",
      "dewana 0.0\n",
      "awara 0.000278629144609\n",
      "aawara 0.000152253349574\n",
      "awaara 0.0\n",
      "juda 0.00161337835175\n",
      "judaa 0.000529224308122\n",
      "judai 0.000273336071764\n",
      "yara 0.0\n",
      "hijr 0.0\n",
      "sanam 0.00636469535126\n",
      "soniye 0.000125297581757\n",
      "piya 0.00862731788463\n",
      "nain 0.00252654666036\n",
      "nayan 0.000875341747273\n",
      "jawani 0.00684060813936\n",
      "gori 0.00887474561007\n",
      "pyasa 0.00163644232604\n",
      "gorehusn 0.0\n",
      "sundar 0.000822165829962\n",
      "noor 0.000124890720619\n",
      "rang 0.00964930619035\n",
      "paisa 0.00103699909622\n",
      "gaadi 0.00270336850069\n",
      "car 0.00037589274527\n",
      "ghar 0.010759862316\n",
      "bangla 0.000251860463542\n",
      "sawan 0.000798794346524\n",
      "saawan 0.0\n",
      "gagan 0.00191823469084\n",
      "asmaan 0.0\n",
      "ladki 0.00511004058901\n",
      "raja 0.00747790176687\n",
      "rani 0.00520741645156\n",
      "yaad 0.00467289928994\n",
      "baarish 0.0\n",
      "barshaat 0.0\n",
      "barshat 0.0\n",
      "maa 0.00086440588165\n",
      "hum 0.0169639655574\n",
      "tum 0.0497309171657\n",
      "mai 0.0814262437398\n",
      "tu 0.0725686567463\n",
      "chaand 0.00258620689968\n",
      "shadi 0.00221689465697\n",
      "shaadi 0.000240233669587\n",
      "zulfe 0.000703111267358\n",
      "haseena 0.0\n",
      "ajnavi 0.0\n",
      "ajnabi 0.000230123115867\n",
      "haseen 0.000526973691801\n",
      "aashiquee 0.0\n",
      "aasique 0.0\n",
      "aashiq 0.00183905574436\n",
      "aasik 0.0\n",
      "ashiq 0.0\n",
      "ashiqui 0.0\n",
      "mulakat 0.00117728319523\n",
      "aansu 0.00158871870476\n",
      "ask 0.0\n",
      "asq 0.0\n",
      "himmat 0.000125297581757\n",
      "janeman 0.0\n",
      "jaanwar 0.0\n",
      "jaanvar 0.000878889084198\n",
      "saath 0.00751834853628\n",
      "jivan 0.0106544149485\n",
      "jeevan 0.000296076980015\n",
      "phool 0.00301388051639\n",
      "phul 0.00743611759335\n",
      "mausam 0.00699569576833\n",
      "jamana 0.00166586022857\n",
      "chaand 0.00258620689968\n",
      "chand 0.00371547091239\n",
      "khabar 0.00534513542156\n",
      "sajda 0.0\n",
      "fiza 0.000558882829385\n",
      "hawa 0.00295246878387\n",
      "aalam 0.000852745960706\n",
      "alam 0.0\n",
      "lamha 0.0\n",
      "nasha 0.00150394490409\n",
      "sharabi 0.0\n",
      "sharab 0.00135574229963\n",
      "sarab 0.0\n",
      "rubaroo 0.0\n",
      "rubaru 0.0\n",
      "arzoo 0.0\n",
      "khusi 0.0\n"
     ]
    }
   ],
   "source": [
    "popular_words = ['dil','pyar', 'pyaar', 'prem', 'premi', 'love', 'pal' , 'aankhein', 'zindagi', 'jindagi', 'khuda', 'allah','ankhein' ,\n",
    "                 'muhabbat', 'mohabbat' , 'ishq', 'isk','jaan', 'jism', 'tadap', 'jaanam', 'dushman', 'dost', 'kamar', 'dewaana', 'dewana', \n",
    "                 'awara', 'aawara', 'awaara', 'juda', 'judaa', 'judai', 'yara','hijr', 'sanam', 'soniye', 'piya', 'nain', 'nayan', 'jawani', 'gori',\n",
    "                 'pyasa', 'gore'\n",
    "                 'husn', 'sundar', 'noor','rang', 'paisa', 'gaadi','car','ghar', 'bangla', 'sawan', 'saawan', 'gagan', 'asmaan',\n",
    "                 'ladki', 'raja', 'rani', 'yaad', 'baarish', 'barshaat', 'barshat', 'maa', 'hum', 'tum', 'mai', 'tu', \n",
    "                 'chaand' , 'shadi', 'shaadi', 'zulfe', 'haseena', 'ajnavi', 'ajnabi' ,'haseen', 'aashiquee', 'aasique',\n",
    "                 'aashiq', 'aasik', 'ashiq', 'ashiqui','mulakat', 'aansu' , 'ask', 'asq', 'himmat','janeman', 'jaanwar','jaanvar', 'saath', \n",
    "                 'jivan', 'jeevan', 'phool', 'phul', 'mausam', 'jamana', 'chaand', 'chand', 'khabar', 'sajda', 'fiza', \n",
    "                 'hawa', 'aalam', 'alam', 'lamha', 'nasha', 'sharabi', 'sharab', 'sarab', 'rubaroo', 'rubaru', 'arzoo',\n",
    "                 'khusi', \n",
    "                ]\n",
    "\n",
    "\n",
    "for i in popular_words:\n",
    "    d = combine_dict(range(1965,1975))\n",
    "    print i, d[i]"
   ]
  },
  {
   "cell_type": "code",
   "execution_count": 30,
   "metadata": {},
   "outputs": [
    {
     "ename": "ImportError",
     "evalue": "No module named faiss",
     "output_type": "error",
     "traceback": [
      "\u001b[0;31m---------------------------------------------------------------------------\u001b[0m",
      "\u001b[0;31mImportError\u001b[0m                               Traceback (most recent call last)",
      "\u001b[0;32m<ipython-input-30-26dd2636dea7>\u001b[0m in \u001b[0;36m<module>\u001b[0;34m()\u001b[0m\n\u001b[1;32m      1\u001b[0m \u001b[0;32mimport\u001b[0m \u001b[0msys\u001b[0m\u001b[0;34m\u001b[0m\u001b[0m\n\u001b[1;32m      2\u001b[0m \u001b[0msys\u001b[0m\u001b[0;34m.\u001b[0m\u001b[0mpath\u001b[0m\u001b[0;34m.\u001b[0m\u001b[0minsert\u001b[0m\u001b[0;34m(\u001b[0m\u001b[0;36m0\u001b[0m\u001b[0;34m,\u001b[0m \u001b[0;34m\"/home/harshil/Apps/faiss/\"\u001b[0m\u001b[0;34m)\u001b[0m\u001b[0;34m\u001b[0m\u001b[0m\n\u001b[0;32m----> 3\u001b[0;31m \u001b[0;32mimport\u001b[0m \u001b[0mfaiss\u001b[0m\u001b[0;34m\u001b[0m\u001b[0m\n\u001b[0m",
      "\u001b[0;31mImportError\u001b[0m: No module named faiss"
     ]
    }
   ],
   "source": [
    "import sys\n",
    "sys.path.insert(0, \"/home/harshil/Apps/faiss/\")\n",
    "import faiss"
   ]
  },
  {
   "cell_type": "code",
   "execution_count": null,
   "metadata": {},
   "outputs": [],
   "source": []
  },
  {
   "cell_type": "code",
   "execution_count": 10,
   "metadata": {},
   "outputs": [],
   "source": [
    "year_data = np.zeros([len(binaca_dict.keys()), len(vocab)]).astype('float32')\n",
    "\n",
    "word_key = dict()\n",
    "for i, val in enumerate(vocab):\n",
    "    word_key[val] = i\n",
    "\n",
    "for year in binaca_year.keys():\n",
    "    for k, v in binaca_dict[year].iteritems():\n",
    "        year_data[year-min(binaca_dict.keys())][word_key[k]] = float(v)\n",
    "\n",
    "year_data = np.ascontiguousarray(year_data.T)"
   ]
  },
  {
   "cell_type": "code",
   "execution_count": 11,
   "metadata": {},
   "outputs": [],
   "source": [
    "k = 10\n",
    "index = faiss.IndexFlatL2(year_data.shape[1])\n",
    "index.add(year_data)\n",
    "D, I = index.search(year_data, k+1)\n",
    "pickle.dump(I, open('indexes.p', 'wb+'))"
   ]
  },
  {
   "cell_type": "code",
   "execution_count": 7,
   "metadata": {},
   "outputs": [],
   "source": [
    "I = pickle.load(open('indexes.p', 'rb+'))"
   ]
  },
  {
   "cell_type": "code",
   "execution_count": 8,
   "metadata": {},
   "outputs": [],
   "source": [
    "import networkx as nx\n",
    "G=nx.Graph()\n",
    "G.add_nodes_from(range(len(vocab)))\n",
    "\n",
    "for i in range(len(vocab)):\n",
    "    for j in I[i]:\n",
    "        if j == i:\n",
    "            continue\n",
    "        G.add_edge(i, j)"
   ]
  },
  {
   "cell_type": "code",
   "execution_count": 9,
   "metadata": {},
   "outputs": [
    {
     "name": "stdout",
     "output_type": "stream",
     "text": [
      "hindustani\n",
      "desh dir rona radhika bhigi abhi dadi-amma madhuban saval nasha\n"
     ]
    }
   ],
   "source": [
    "def print_i(j):\n",
    "    print vocab[j]\n",
    "    for i in G.neighbors(j):\n",
    "        print vocab[i],\n",
    "\n",
    "print_i(1732)"
   ]
  },
  {
   "cell_type": "code",
   "execution_count": 10,
   "metadata": {},
   "outputs": [],
   "source": [
    "from sklearn.cluster import SpectralClustering\n",
    "from sklearn import metrics"
   ]
  },
  {
   "cell_type": "code",
   "execution_count": 28,
   "metadata": {},
   "outputs": [
    {
     "data": {
      "text/plain": [
       "1732"
      ]
     },
     "execution_count": 28,
     "metadata": {},
     "output_type": "execute_result"
    }
   ],
   "source": [
    "vocab.index('hindustani')"
   ]
  },
  {
   "cell_type": "code",
   "execution_count": 29,
   "metadata": {},
   "outputs": [
    {
     "ename": "NameError",
     "evalue": "name 'nx' is not defined",
     "output_type": "error",
     "traceback": [
      "\u001b[0;31m---------------------------------------------------------------------------\u001b[0m",
      "\u001b[0;31mNameError\u001b[0m                                 Traceback (most recent call last)",
      "\u001b[0;32m<ipython-input-29-79daf0dda71e>\u001b[0m in \u001b[0;36m<module>\u001b[0;34m()\u001b[0m\n\u001b[0;32m----> 1\u001b[0;31m \u001b[0madj_mat\u001b[0m \u001b[0;34m=\u001b[0m \u001b[0mnx\u001b[0m\u001b[0;34m.\u001b[0m\u001b[0mto_numpy_matrix\u001b[0m\u001b[0;34m(\u001b[0m\u001b[0mG\u001b[0m\u001b[0;34m)\u001b[0m\u001b[0;34m\u001b[0m\u001b[0m\n\u001b[0m\u001b[1;32m      2\u001b[0m \u001b[0msc\u001b[0m \u001b[0;34m=\u001b[0m \u001b[0mSpectralClustering\u001b[0m\u001b[0;34m(\u001b[0m\u001b[0;36m100\u001b[0m\u001b[0;34m,\u001b[0m \u001b[0maffinity\u001b[0m\u001b[0;34m=\u001b[0m\u001b[0;34m'precomputed'\u001b[0m\u001b[0;34m,\u001b[0m \u001b[0meigen_solver\u001b[0m\u001b[0;34m=\u001b[0m\u001b[0;34m'arpack'\u001b[0m\u001b[0;34m)\u001b[0m\u001b[0;34m\u001b[0m\u001b[0m\n\u001b[1;32m      3\u001b[0m \u001b[0msc\u001b[0m\u001b[0;34m.\u001b[0m\u001b[0mfit\u001b[0m\u001b[0;34m(\u001b[0m\u001b[0madj_mat\u001b[0m\u001b[0;34m)\u001b[0m\u001b[0;34m\u001b[0m\u001b[0m\n\u001b[1;32m      4\u001b[0m \u001b[0;34m\u001b[0m\u001b[0m\n\u001b[1;32m      5\u001b[0m \u001b[0;32mprint\u001b[0m\u001b[0;34m(\u001b[0m\u001b[0;34m'spectral clustering'\u001b[0m\u001b[0;34m)\u001b[0m\u001b[0;34m\u001b[0m\u001b[0m\n",
      "\u001b[0;31mNameError\u001b[0m: name 'nx' is not defined"
     ]
    }
   ],
   "source": [
    "adj_mat = nx.to_numpy_matrix(G)\n",
    "sc = SpectralClustering(100, affinity='precomputed', eigen_solver='arpack')\n",
    "sc.fit(adj_mat)\n",
    "\n",
    "print('spectral clustering')\n",
    "print(sc.labels_)"
   ]
  },
  {
   "cell_type": "code",
   "execution_count": 13,
   "metadata": {},
   "outputs": [],
   "source": [
    "pickle.dump(sc, open('sc.p', 'wb+'))"
   ]
  },
  {
   "cell_type": "code",
   "execution_count": null,
   "metadata": {},
   "outputs": [],
   "source": []
  }
 ],
 "metadata": {
  "kernelspec": {
   "display_name": "Python 2",
   "language": "python",
   "name": "python2"
  },
  "language_info": {
   "codemirror_mode": {
    "name": "ipython",
    "version": 2
   },
   "file_extension": ".py",
   "mimetype": "text/x-python",
   "name": "python",
   "nbconvert_exporter": "python",
   "pygments_lexer": "ipython2",
   "version": "2.7.14"
  }
 },
 "nbformat": 4,
 "nbformat_minor": 2
}
