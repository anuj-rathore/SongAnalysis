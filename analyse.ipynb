{
 "cells": [
  {
   "cell_type": "code",
   "execution_count": 22,
   "metadata": {},
   "outputs": [],
   "source": [
    "import cPickle as pickle\n",
    "from download_songs import BinacaYear, Song\n",
    "import glob\n",
    "import collections\n",
    "from pylab import *\n",
    "import matplotlib\n",
    "import matplotlib.pyplot as plt"
   ]
  },
  {
   "cell_type": "code",
   "execution_count": 2,
   "metadata": {},
   "outputs": [],
   "source": [
    "binaca_year = {}\n",
    "for i in glob.glob(\"./songs/*.p\"):\n",
    "    binaca_year[int(i[-6:-2])] = pickle.load(open(i, \"rb\"))\n"
   ]
  },
  {
   "cell_type": "code",
   "execution_count": 37,
   "metadata": {},
   "outputs": [],
   "source": [
    "binaca_dict = {}\n",
    "for year in binaca_year.keys():\n",
    "    binaca_dict[year] = analyse(binaca_year[year])\n"
   ]
  },
  {
   "cell_type": "code",
   "execution_count": 34,
   "metadata": {},
   "outputs": [],
   "source": [
    "def analyse(by):\n",
    "    word_list = collections.defaultdict(float)\n",
    "    \n",
    "    for song in by.songs:\n",
    "        for word in song.lyrics.split():\n",
    "            word_list[word] += 1\n",
    "    \n",
    "    total_words = sum(word_list.values())\n",
    "    word_list = {k: v/total_words for k, v in word_list.iteritems()}\n",
    "    return word_list\n"
   ]
  },
  {
   "cell_type": "code",
   "execution_count": 46,
   "metadata": {},
   "outputs": [],
   "source": [
    "vocab = set()\n",
    "for keys in binaca_dict.values():\n",
    "    for i in keys.keys():\n",
    "        vocab.add(i)\n"
   ]
  },
  {
   "cell_type": "code",
   "execution_count": 79,
   "metadata": {},
   "outputs": [],
   "source": [
    "def combine_dict(year_range):\n",
    "    d = collections.defaultdict(float)\n",
    "    for year in year_range:\n",
    "        for k, v in binaca_dict[year].iteritems():\n",
    "            d[k] += v\n",
    "    return d\n",
    "\n",
    "def get_top_n_words(n, year_range):\n",
    "    d = combine_dict(year_range)\n",
    "    m = [[v, k] for k, v in d.iteritems()]\n",
    "    m.sort(reverse=True)\n",
    "    return set(map(lambda i: i[1], m[n]))"
   ]
  },
  {
   "cell_type": "code",
   "execution_count": 43,
   "metadata": {},
   "outputs": [
    {
     "data": {
      "image/png": "[encoded data removed]",
      "text/plain": [
       "<matplotlib.figure.Figure at 0x7f9a98192fd0>"
      ]
     },
     "metadata": {},
     "output_type": "display_data"
    }
   ],
   "source": [
    "d = binaca_dict[1954]\n",
    "m = [(v, k) for k, v in d.iteritems()]\n",
    "m.sort(reverse=True)\n",
    "x = range(len(m))\n",
    "plt.bar(x, map(lambda i: i[0], m), 1/1.5, color=\"blue\")\n",
    "plt.xticks(x, map(lambda i: i[1], m))\n",
    "show()"
   ]
  },
  {
   "cell_type": "code",
   "execution_count": 80,
   "metadata": {},
   "outputs": [
    {
     "name": "stdout",
     "output_type": "stream",
     "text": [
      "bhee , mila , maine , dhire , di , jaago , aaye , bat , magar , sang , chaand , bahar , ban , gagan , haay , nain , are , najar , jamuna , ichak , kyaa , phul , ruk , kee , kaun , liye , bol , haa , rang , diye , ghar , bhayo , hamara , tumhe , kahe , mora , more , manzil , yaha , yahi , gam , chup , gayo , ram , ik , barse , haye , dana , kyo , karu , sab , is , in , kuch , hame , sar , hindustani , kah , jiya , kiya , ho, , jaise , bade , tumse , sa , tha ,\n",
      "----------------------------------------------------------------------------------------------\n",
      "raja , mehbuba , chori , hath , ga , nahin , la , hay , jaa , bin , apna , jayenge , maar , mujhko , apne , du , bas , sanam , ru , aate , jaate , bole , dekha , ji , jate , se, , jata , jaan , jay , chor , bhai , dono , prem , tujhe , kahi , me, , jana , jhum , gori , he , ma , aao , aai , aap , kahaan , zara , badal , chale , raha , aha , karo , tak , saath , mil , hoo , shaadi , nam , jivan , mat , kal , kaise , aisa , aise , bina , thi , raat ,\n"
     ]
    }
   ],
   "source": [
    "#see how words changed over time\n",
    "\n",
    "s_v = slice(100, 200)\n",
    "seta = get_top_n_words(s_v, range(1955, 1965))\n",
    "setb = get_top_n_words(s_v, range(1973, 1983))\n",
    "\n",
    "for i in seta:\n",
    "    if i not in setb:\n",
    "        print i, ',',\n",
    "print\n",
    "print '-' * 94\n",
    "\n",
    "for i in setb:\n",
    "    if i not in seta:\n",
    "        print i, ',',\n",
    "print"
   ]
  },
  {
   "cell_type": "code",
   "execution_count": null,
   "metadata": {},
   "outputs": [],
   "source": []
  }
 ],
 "metadata": {
  "kernelspec": {
   "display_name": "Python 2",
   "language": "python",
   "name": "python2"
  },
  "language_info": {
   "codemirror_mode": {
    "name": "ipython",
    "version": 2
   },
   "file_extension": ".py",
   "mimetype": "text/x-python",
   "name": "python",
   "nbconvert_exporter": "python",
   "pygments_lexer": "ipython2",
   "version": "2.7.12"
  }
 },
 "nbformat": 4,
 "nbformat_minor": 2
}
